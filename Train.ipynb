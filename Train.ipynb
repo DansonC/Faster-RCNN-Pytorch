{
 "cells": [
  {
   "cell_type": "code",
   "execution_count": 1,
   "metadata": {},
   "outputs": [],
   "source": [
    "%load_ext autoreload\n",
    "%autoreload 2\n",
    "%matplotlib inline\n",
    "\n",
    "import matplotlib.pyplot as plt\n",
    "from utils.config import opt\n",
    "from utils.data_load import save_pkl, load_pkl\n",
    "import numpy as np\n",
    "from torch import nn\n",
    "from torch.utils import data as data_\n",
    "from tqdm import tqdm\n",
    "import torch as t\n",
    "from utils import array_tool as at\n",
    "from torch.autograd import Variable"
   ]
  },
  {
   "cell_type": "markdown",
   "metadata": {},
   "source": [
    "# Load Data"
   ]
  },
  {
   "cell_type": "code",
   "execution_count": 2,
   "metadata": {
    "collapsed": true
   },
   "outputs": [],
   "source": [
    "from data.dataset import Dataset, TestDataset, inverse_normalize"
   ]
  },
  {
   "cell_type": "code",
   "execution_count": 3,
   "metadata": {
    "collapsed": true
   },
   "outputs": [],
   "source": [
    "dataset = Dataset(opt)"
   ]
  },
  {
   "cell_type": "code",
   "execution_count": 4,
   "metadata": {},
   "outputs": [],
   "source": [
    "dataloader = data_.DataLoader(dataset, \\\n",
    "                                  batch_size=1, \\\n",
    "                                  shuffle=True, \\\n",
    "                                  # pin_memory=True,\n",
    "                                  num_workers=opt.num_workers)"
   ]
  },
  {
   "cell_type": "markdown",
   "metadata": {},
   "source": [
    "# Load Net and Trainer"
   ]
  },
  {
   "cell_type": "code",
   "execution_count": 5,
   "metadata": {
    "collapsed": true
   },
   "outputs": [],
   "source": [
    "from model.faster_rcnn import FasterRCNN\n",
    "from trainer.trainer import FasterRCNNTrainer"
   ]
  },
  {
   "cell_type": "code",
   "execution_count": 6,
   "metadata": {
    "collapsed": true
   },
   "outputs": [],
   "source": [
    "faster_rcnn = FasterRCNN()\n",
    "trainer = FasterRCNNTrainer(faster_rcnn).cuda()"
   ]
  },
  {
   "cell_type": "markdown",
   "metadata": {},
   "source": [
    "# Training"
   ]
  },
  {
   "cell_type": "code",
   "execution_count": 7,
   "metadata": {},
   "outputs": [
    {
     "name": "stderr",
     "output_type": "stream",
     "text": [
      "5011it [20:59,  4.58it/s]\n"
     ]
    },
    {
     "name": "stdout",
     "output_type": "stream",
     "text": [
      "--------------------------\n",
      "curr epoch:  0\n",
      "roi_cls loss:  Variable containing:\n",
      " 0.3674\n",
      "[torch.cuda.FloatTensor of size 1 (GPU 0)]\n",
      "\n",
      "roi_loc loss:  Variable containing:\n",
      " 0.3669\n",
      "[torch.cuda.FloatTensor of size 1 (GPU 0)]\n",
      "\n",
      "rpn_cls loss:  Variable containing:\n",
      " 0.1877\n",
      "[torch.cuda.FloatTensor of size 1 (GPU 0)]\n",
      "\n",
      "rpn_loc loss:  Variable containing:\n",
      "1.00000e-02 *\n",
      "  7.2901\n",
      "[torch.cuda.FloatTensor of size 1 (GPU 0)]\n",
      "\n",
      "--------------------------\n"
     ]
    },
    {
     "name": "stderr",
     "output_type": "stream",
     "text": [
      "5011it [21:20,  3.73it/s]\n"
     ]
    },
    {
     "name": "stdout",
     "output_type": "stream",
     "text": [
      "--------------------------\n",
      "curr epoch:  1\n",
      "roi_cls loss:  Variable containing:\n",
      " 0.2599\n",
      "[torch.cuda.FloatTensor of size 1 (GPU 0)]\n",
      "\n",
      "roi_loc loss:  Variable containing:\n",
      " 0.3091\n",
      "[torch.cuda.FloatTensor of size 1 (GPU 0)]\n",
      "\n",
      "rpn_cls loss:  Variable containing:\n",
      " 0.1426\n",
      "[torch.cuda.FloatTensor of size 1 (GPU 0)]\n",
      "\n",
      "rpn_loc loss:  Variable containing:\n",
      "1.00000e-02 *\n",
      "  6.3122\n",
      "[torch.cuda.FloatTensor of size 1 (GPU 0)]\n",
      "\n",
      "--------------------------\n"
     ]
    },
    {
     "name": "stderr",
     "output_type": "stream",
     "text": [
      "5011it [21:15,  4.04it/s]\n"
     ]
    },
    {
     "name": "stdout",
     "output_type": "stream",
     "text": [
      "--------------------------\n",
      "curr epoch:  2\n",
      "roi_cls loss:  Variable containing:\n",
      " 0.2248\n",
      "[torch.cuda.FloatTensor of size 1 (GPU 0)]\n",
      "\n",
      "roi_loc loss:  Variable containing:\n",
      " 0.2781\n",
      "[torch.cuda.FloatTensor of size 1 (GPU 0)]\n",
      "\n",
      "rpn_cls loss:  Variable containing:\n",
      " 0.1257\n",
      "[torch.cuda.FloatTensor of size 1 (GPU 0)]\n",
      "\n",
      "rpn_loc loss:  Variable containing:\n",
      "1.00000e-02 *\n",
      "  5.9798\n",
      "[torch.cuda.FloatTensor of size 1 (GPU 0)]\n",
      "\n",
      "--------------------------\n"
     ]
    },
    {
     "name": "stderr",
     "output_type": "stream",
     "text": [
      "5011it [21:37,  3.77it/s]\n"
     ]
    },
    {
     "name": "stdout",
     "output_type": "stream",
     "text": [
      "--------------------------\n",
      "curr epoch:  3\n",
      "roi_cls loss:  Variable containing:\n",
      " 0.1998\n",
      "[torch.cuda.FloatTensor of size 1 (GPU 0)]\n",
      "\n",
      "roi_loc loss:  Variable containing:\n",
      " 0.2560\n",
      "[torch.cuda.FloatTensor of size 1 (GPU 0)]\n",
      "\n",
      "rpn_cls loss:  Variable containing:\n",
      " 0.1126\n",
      "[torch.cuda.FloatTensor of size 1 (GPU 0)]\n",
      "\n",
      "rpn_loc loss:  Variable containing:\n",
      "1.00000e-02 *\n",
      "  5.7650\n",
      "[torch.cuda.FloatTensor of size 1 (GPU 0)]\n",
      "\n",
      "--------------------------\n"
     ]
    },
    {
     "name": "stderr",
     "output_type": "stream",
     "text": [
      "5011it [22:38,  3.31it/s]\n"
     ]
    },
    {
     "name": "stdout",
     "output_type": "stream",
     "text": [
      "--------------------------\n",
      "curr epoch:  4\n",
      "roi_cls loss:  Variable containing:\n",
      " 0.1831\n",
      "[torch.cuda.FloatTensor of size 1 (GPU 0)]\n",
      "\n",
      "roi_loc loss:  Variable containing:\n",
      " 0.2406\n",
      "[torch.cuda.FloatTensor of size 1 (GPU 0)]\n",
      "\n",
      "rpn_cls loss:  Variable containing:\n",
      " 0.1040\n",
      "[torch.cuda.FloatTensor of size 1 (GPU 0)]\n",
      "\n",
      "rpn_loc loss:  Variable containing:\n",
      "1.00000e-02 *\n",
      "  5.5827\n",
      "[torch.cuda.FloatTensor of size 1 (GPU 0)]\n",
      "\n",
      "--------------------------\n"
     ]
    },
    {
     "name": "stderr",
     "output_type": "stream",
     "text": [
      "5011it [22:29,  3.93it/s]\n"
     ]
    },
    {
     "name": "stdout",
     "output_type": "stream",
     "text": [
      "--------------------------\n",
      "curr epoch:  5\n",
      "roi_cls loss:  Variable containing:\n",
      " 0.1717\n",
      "[torch.cuda.FloatTensor of size 1 (GPU 0)]\n",
      "\n",
      "roi_loc loss:  Variable containing:\n",
      " 0.2253\n",
      "[torch.cuda.FloatTensor of size 1 (GPU 0)]\n",
      "\n",
      "rpn_cls loss:  Variable containing:\n",
      "1.00000e-02 *\n",
      "  9.6195\n",
      "[torch.cuda.FloatTensor of size 1 (GPU 0)]\n",
      "\n",
      "rpn_loc loss:  Variable containing:\n",
      "1.00000e-02 *\n",
      "  5.3951\n",
      "[torch.cuda.FloatTensor of size 1 (GPU 0)]\n",
      "\n",
      "--------------------------\n"
     ]
    },
    {
     "name": "stderr",
     "output_type": "stream",
     "text": [
      "5011it [22:42,  4.02it/s]\n"
     ]
    },
    {
     "name": "stdout",
     "output_type": "stream",
     "text": [
      "--------------------------\n",
      "curr epoch:  6\n",
      "roi_cls loss:  Variable containing:\n",
      " 0.1593\n",
      "[torch.cuda.FloatTensor of size 1 (GPU 0)]\n",
      "\n",
      "roi_loc loss:  Variable containing:\n",
      " 0.2130\n",
      "[torch.cuda.FloatTensor of size 1 (GPU 0)]\n",
      "\n",
      "rpn_cls loss:  Variable containing:\n",
      "1.00000e-02 *\n",
      "  8.8023\n",
      "[torch.cuda.FloatTensor of size 1 (GPU 0)]\n",
      "\n",
      "rpn_loc loss:  Variable containing:\n",
      "1.00000e-02 *\n",
      "  5.3082\n",
      "[torch.cuda.FloatTensor of size 1 (GPU 0)]\n",
      "\n",
      "--------------------------\n"
     ]
    },
    {
     "name": "stderr",
     "output_type": "stream",
     "text": [
      "5011it [22:38,  3.69it/s]\n"
     ]
    },
    {
     "name": "stdout",
     "output_type": "stream",
     "text": [
      "--------------------------\n",
      "curr epoch:  7\n",
      "roi_cls loss:  Variable containing:\n",
      " 0.1457\n",
      "[torch.cuda.FloatTensor of size 1 (GPU 0)]\n",
      "\n",
      "roi_loc loss:  Variable containing:\n",
      " 0.2030\n",
      "[torch.cuda.FloatTensor of size 1 (GPU 0)]\n",
      "\n",
      "rpn_cls loss:  Variable containing:\n",
      "1.00000e-02 *\n",
      "  8.0985\n",
      "[torch.cuda.FloatTensor of size 1 (GPU 0)]\n",
      "\n",
      "rpn_loc loss:  Variable containing:\n",
      "1.00000e-02 *\n",
      "  5.1582\n",
      "[torch.cuda.FloatTensor of size 1 (GPU 0)]\n",
      "\n",
      "--------------------------\n"
     ]
    },
    {
     "name": "stderr",
     "output_type": "stream",
     "text": [
      "5011it [22:42,  4.22it/s]\n"
     ]
    },
    {
     "name": "stdout",
     "output_type": "stream",
     "text": [
      "--------------------------\n",
      "curr epoch:  8\n",
      "roi_cls loss:  Variable containing:\n",
      " 0.1402\n",
      "[torch.cuda.FloatTensor of size 1 (GPU 0)]\n",
      "\n",
      "roi_loc loss:  Variable containing:\n",
      " 0.1936\n",
      "[torch.cuda.FloatTensor of size 1 (GPU 0)]\n",
      "\n",
      "rpn_cls loss:  Variable containing:\n",
      "1.00000e-02 *\n",
      "  7.5001\n",
      "[torch.cuda.FloatTensor of size 1 (GPU 0)]\n",
      "\n",
      "rpn_loc loss:  Variable containing:\n",
      "1.00000e-02 *\n",
      "  5.0869\n",
      "[torch.cuda.FloatTensor of size 1 (GPU 0)]\n",
      "\n",
      "--------------------------\n"
     ]
    },
    {
     "name": "stderr",
     "output_type": "stream",
     "text": [
      "5011it [22:24,  3.66it/s]\n"
     ]
    },
    {
     "name": "stdout",
     "output_type": "stream",
     "text": [
      "--------------------------\n",
      "curr epoch:  9\n",
      "roi_cls loss:  Variable containing:\n",
      " 0.1342\n",
      "[torch.cuda.FloatTensor of size 1 (GPU 0)]\n",
      "\n",
      "roi_loc loss:  Variable containing:\n",
      " 0.1853\n",
      "[torch.cuda.FloatTensor of size 1 (GPU 0)]\n",
      "\n",
      "rpn_cls loss:  Variable containing:\n",
      "1.00000e-02 *\n",
      "  7.0720\n",
      "[torch.cuda.FloatTensor of size 1 (GPU 0)]\n",
      "\n",
      "rpn_loc loss:  Variable containing:\n",
      "1.00000e-02 *\n",
      "  5.0439\n",
      "[torch.cuda.FloatTensor of size 1 (GPU 0)]\n",
      "\n",
      "--------------------------\n"
     ]
    },
    {
     "name": "stderr",
     "output_type": "stream",
     "text": [
      "5011it [22:48,  3.66it/s]\n"
     ]
    },
    {
     "name": "stdout",
     "output_type": "stream",
     "text": [
      "--------------------------\n",
      "curr epoch:  10\n",
      "roi_cls loss:  Variable containing:\n",
      " 0.1281\n",
      "[torch.cuda.FloatTensor of size 1 (GPU 0)]\n",
      "\n",
      "roi_loc loss:  Variable containing:\n",
      " 0.1791\n",
      "[torch.cuda.FloatTensor of size 1 (GPU 0)]\n",
      "\n",
      "rpn_cls loss:  Variable containing:\n",
      "1.00000e-02 *\n",
      "  6.5513\n",
      "[torch.cuda.FloatTensor of size 1 (GPU 0)]\n",
      "\n",
      "rpn_loc loss:  Variable containing:\n",
      "1.00000e-02 *\n",
      "  4.9259\n",
      "[torch.cuda.FloatTensor of size 1 (GPU 0)]\n",
      "\n",
      "--------------------------\n"
     ]
    },
    {
     "name": "stderr",
     "output_type": "stream",
     "text": [
      "5011it [23:02,  4.23it/s]\n"
     ]
    },
    {
     "name": "stdout",
     "output_type": "stream",
     "text": [
      "--------------------------\n",
      "curr epoch:  11\n",
      "roi_cls loss:  Variable containing:\n",
      " 0.1220\n",
      "[torch.cuda.FloatTensor of size 1 (GPU 0)]\n",
      "\n",
      "roi_loc loss:  Variable containing:\n",
      " 0.1720\n",
      "[torch.cuda.FloatTensor of size 1 (GPU 0)]\n",
      "\n",
      "rpn_cls loss:  Variable containing:\n",
      "1.00000e-02 *\n",
      "  6.1539\n",
      "[torch.cuda.FloatTensor of size 1 (GPU 0)]\n",
      "\n",
      "rpn_loc loss:  Variable containing:\n",
      "1.00000e-02 *\n",
      "  4.8372\n",
      "[torch.cuda.FloatTensor of size 1 (GPU 0)]\n",
      "\n",
      "--------------------------\n"
     ]
    },
    {
     "name": "stderr",
     "output_type": "stream",
     "text": [
      "5011it [22:35,  3.51it/s]\n"
     ]
    },
    {
     "name": "stdout",
     "output_type": "stream",
     "text": [
      "--------------------------\n",
      "curr epoch:  12\n",
      "roi_cls loss:  Variable containing:\n",
      " 0.1174\n",
      "[torch.cuda.FloatTensor of size 1 (GPU 0)]\n",
      "\n",
      "roi_loc loss:  Variable containing:\n",
      " 0.1660\n",
      "[torch.cuda.FloatTensor of size 1 (GPU 0)]\n",
      "\n",
      "rpn_cls loss:  Variable containing:\n",
      "1.00000e-02 *\n",
      "  5.8359\n",
      "[torch.cuda.FloatTensor of size 1 (GPU 0)]\n",
      "\n",
      "rpn_loc loss:  Variable containing:\n",
      "1.00000e-02 *\n",
      "  4.7706\n",
      "[torch.cuda.FloatTensor of size 1 (GPU 0)]\n",
      "\n",
      "--------------------------\n"
     ]
    },
    {
     "name": "stderr",
     "output_type": "stream",
     "text": [
      "5011it [22:54,  3.90it/s]\n"
     ]
    },
    {
     "name": "stdout",
     "output_type": "stream",
     "text": [
      "--------------------------\n",
      "curr epoch:  13\n",
      "roi_cls loss:  Variable containing:\n",
      " 0.1138\n",
      "[torch.cuda.FloatTensor of size 1 (GPU 0)]\n",
      "\n",
      "roi_loc loss:  Variable containing:\n",
      " 0.1598\n",
      "[torch.cuda.FloatTensor of size 1 (GPU 0)]\n",
      "\n",
      "rpn_cls loss:  Variable containing:\n",
      "1.00000e-02 *\n",
      "  5.4888\n",
      "[torch.cuda.FloatTensor of size 1 (GPU 0)]\n",
      "\n",
      "rpn_loc loss:  Variable containing:\n",
      "1.00000e-02 *\n",
      "  4.7324\n",
      "[torch.cuda.FloatTensor of size 1 (GPU 0)]\n",
      "\n",
      "--------------------------\n"
     ]
    }
   ],
   "source": [
    "for epoch in range(14):\n",
    "    \n",
    "    loss_list_roi_cls = []\n",
    "    loss_list_roi_loc = []\n",
    "    loss_list_rpn_cls = []\n",
    "    loss_list_rpn_loc = []\n",
    "    for ii, (img, bbox_, label_, scale) in tqdm(enumerate(dataloader)):\n",
    "        \n",
    "        scale = at.scalar(scale)\n",
    "        img, bbox, label = img.cuda().float(), bbox_.cuda(), label_.cuda()\n",
    "        img, bbox, label = Variable(img), Variable(bbox), Variable(label)\n",
    "        loss_list = trainer.train_step(img, bbox, label, scale)\n",
    "\n",
    "        loss_list_roi_cls.append(loss_list.roi_cls_loss)\n",
    "        loss_list_roi_loc.append(loss_list.roi_loc_loss)\n",
    "        loss_list_rpn_cls.append(loss_list.rpn_cls_loss)\n",
    "        loss_list_rpn_loc.append(loss_list.rpn_loc_loss)\n",
    "    print (\"--------------------------\")\n",
    "    print (\"curr epoch: \", epoch)\n",
    "    print (\"roi_cls loss: \", np.array(loss_list_roi_cls).mean())\n",
    "    print (\"roi_loc loss: \", np.array(loss_list_roi_loc).mean())\n",
    "    print (\"rpn_cls loss: \", np.array(loss_list_rpn_cls).mean())\n",
    "    print (\"rpn_loc loss: \", np.array(loss_list_rpn_loc).mean())\n",
    "    print (\"--------------------------\")"
   ]
  },
  {
   "cell_type": "markdown",
   "metadata": {},
   "source": [
    "# Evaluation"
   ]
  },
  {
   "cell_type": "code",
   "execution_count": 8,
   "metadata": {
    "collapsed": true
   },
   "outputs": [],
   "source": [
    "from utils.eval_tool import eval_detection_voc"
   ]
  },
  {
   "cell_type": "code",
   "execution_count": 9,
   "metadata": {
    "collapsed": true
   },
   "outputs": [],
   "source": [
    "def eval(dataloader, faster_rcnn, test_num=10000):\n",
    "    pred_bboxes, pred_labels, pred_scores = list(), list(), list()\n",
    "    gt_bboxes, gt_labels, gt_difficults = list(), list(), list()\n",
    "    for ii, (imgs, sizes, gt_bboxes_, gt_labels_, gt_difficults_) in tqdm(enumerate(dataloader)):\n",
    "        sizes = [sizes[0][0], sizes[1][0]]\n",
    "        pred_bboxes_, pred_labels_, pred_scores_ = faster_rcnn.predict(imgs, [sizes])\n",
    "        gt_bboxes += list(gt_bboxes_.numpy())\n",
    "        gt_labels += list(gt_labels_.numpy())\n",
    "        gt_difficults += list(gt_difficults_.numpy())\n",
    "        pred_bboxes += pred_bboxes_\n",
    "        pred_labels += pred_labels_\n",
    "        pred_scores += pred_scores_\n",
    "        if ii == test_num: break\n",
    "\n",
    "    result = eval_detection_voc(\n",
    "        pred_bboxes, pred_labels, pred_scores,\n",
    "        gt_bboxes, gt_labels, gt_difficults,\n",
    "        use_07_metric=True)\n",
    "    return result"
   ]
  },
  {
   "cell_type": "code",
   "execution_count": 10,
   "metadata": {},
   "outputs": [],
   "source": [
    "testset = TestDataset(opt)\n",
    "test_dataloader = data_.DataLoader(testset,\n",
    "                                   batch_size=1,\n",
    "                                   num_workers=8,\n",
    "                                   shuffle=False, \\\n",
    "                                   pin_memory=True\n",
    "                                   )"
   ]
  },
  {
   "cell_type": "code",
   "execution_count": 11,
   "metadata": {},
   "outputs": [
    {
     "name": "stderr",
     "output_type": "stream",
     "text": [
      "1000it [07:31,  1.98it/s]"
     ]
    }
   ],
   "source": [
    "eval_result = eval(test_dataloader, faster_rcnn, test_num=1000)"
   ]
  },
  {
   "cell_type": "code",
   "execution_count": 12,
   "metadata": {},
   "outputs": [
    {
     "data": {
      "text/plain": [
       "{'ap': array([ 0.78703012,  0.80306497,  0.64505543,  0.60716555,  0.49361586,\n",
       "         0.8341593 ,  0.84566703,  0.78718817,  0.45073836,  0.79517284,\n",
       "         0.62107752,  0.6427704 ,  0.74794425,  0.79348821,  0.74581093,\n",
       "         0.38075758,  0.67097107,  0.49560663,  0.74021585,  0.66774319]),\n",
       " 'map': 0.67776216301200209}"
      ]
     },
     "execution_count": 12,
     "metadata": {},
     "output_type": "execute_result"
    }
   ],
   "source": [
    "eval_result"
   ]
  },
  {
   "cell_type": "code",
   "execution_count": 26,
   "metadata": {},
   "outputs": [
    {
     "data": {
      "text/plain": [
       "{'ap': array([ 0.67399267,  0.58309746,  0.47840597,  0.38835252,  0.32832103,\n",
       "         0.65140195,  0.72522413,  0.67210257,  0.261774  ,  0.60450732,\n",
       "         0.43700676,  0.38783834,  0.67360036,  0.58708554,  0.61982477,\n",
       "         0.32746522,  0.40122355,  0.38349585,  0.61877112,  0.59206734]),\n",
       " 'map': 0.51977792314647886}"
      ]
     },
     "execution_count": 26,
     "metadata": {},
     "output_type": "execute_result"
    }
   ],
   "source": [
    "eval_result"
   ]
  }
 ],
 "metadata": {
  "kernelspec": {
   "display_name": "Python 3",
   "language": "python",
   "name": "python3"
  },
  "language_info": {
   "codemirror_mode": {
    "name": "ipython",
    "version": 3
   },
   "file_extension": ".py",
   "mimetype": "text/x-python",
   "name": "python",
   "nbconvert_exporter": "python",
   "pygments_lexer": "ipython3",
   "version": "3.6.3"
  }
 },
 "nbformat": 4,
 "nbformat_minor": 2
}
